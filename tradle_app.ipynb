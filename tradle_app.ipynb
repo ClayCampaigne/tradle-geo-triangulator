{
 "cells": [
  {
   "cell_type": "code",
   "execution_count": null,
   "id": "setup",
   "metadata": {},
   "outputs": [],
   "source": [
    "import ipywidgets as W\n",
    "from IPython.display import display, clear_output\n",
    "from tradle_guesser import load_country_data, best_guesses\n",
    "\n",
    "# Load data\n",
    "print(\"Loading country data...\")\n",
    "centroid_list, distance_df = load_country_data()\n",
    "countries = sorted(centroid_list[\"Country\"].unique().tolist())\n",
    "dir_choices = [\"\", \"N\", \"S\", \"E\", \"W\", \"NE\", \"NW\", \"SE\", \"SW\"]\n",
    "print(f\"Loaded {len(countries)} countries\")"
   ]
  },
  {
   "cell_type": "code",
   "execution_count": null,
   "id": "widgets",
   "metadata": {},
   "outputs": [],
   "source": [
    "rows_box = W.VBox([])  # will hold hint rows\n",
    "\n",
    "def make_row():\n",
    "    return W.HBox([\n",
    "        W.Dropdown(options=countries, description=\"Country\", layout=W.Layout(width=\"40%\")),\n",
    "        W.BoundedIntText(value=1000, min=0, max=40075, step=1, description=\"km\", layout=W.Layout(width=\"25%\")),\n",
    "        W.Dropdown(options=dir_choices, value=\"\", description=\"Dir\", layout=W.Layout(width=\"20%\")),\n",
    "        W.Button(description=\"−\", button_style=\"\", layout=W.Layout(width=\"8%\"))\n",
    "    ])\n",
    "\n",
    "def add_row(_=None):\n",
    "    row = make_row()\n",
    "    def remove_row(btn):\n",
    "        rows = list(rows_box.children)\n",
    "        rows.remove(row)\n",
    "        rows_box.children = tuple(rows)\n",
    "    row.children[-1].on_click(remove_row)\n",
    "    rows_box.children = (*rows_box.children, row)\n",
    "\n",
    "add_btn = W.Button(description=\"Add hint\", button_style=\"info\")\n",
    "add_btn.on_click(add_row)\n",
    "add_row()  # start with one\n",
    "\n",
    "penalty = W.BoundedFloatText(value=10.0, min=0, max=1e6, step=1.0, description=\"Direction penalty\")\n",
    "topn    = W.BoundedIntText(value=15, min=1, max=250, step=1, description=\"Top N\")\n",
    "\n",
    "run_btn = W.Button(description=\"Compute\", button_style=\"success\")\n",
    "out = W.Output()\n",
    "\n",
    "def run(_):\n",
    "    hints = []\n",
    "    for row in rows_box.children:\n",
    "        ctry = row.children[0].value\n",
    "        km   = row.children[1].value\n",
    "        d    = row.children[2].value or None\n",
    "        hints.append((ctry, km) if d is None else (ctry, km, d))\n",
    "    with out:\n",
    "        clear_output(wait=True)\n",
    "        if not hints:\n",
    "            print(\"Add at least one hint.\")\n",
    "            return\n",
    "        try:\n",
    "            res = best_guesses(hints, centroid_list, distance_df, penalty=float(penalty.value))\n",
    "            display(res.head(int(topn.value)))\n",
    "        except Exception as e:\n",
    "            print(f\"Error: {e}\")\n",
    "\n",
    "run_btn.on_click(run)\n",
    "\n",
    "ui = W.VBox([\n",
    "    W.HTML(\"<h2>Tradle Geographic Triangulator</h2><p>Enter hints (country, distance km, optional direction).</p>\"),\n",
    "    W.HBox([add_btn, penalty, topn, run_btn]),\n",
    "    rows_box,\n",
    "    out\n",
    "])\n",
    "\n",
    "display(ui)"
   ]
  }
 ],
 "metadata": {
  "kernelspec": {
   "display_name": "Python 3",
   "language": "python",
   "name": "python3"
  },
  "language_info": {
   "codemirror_mode": {
    "name": "ipython",
    "version": 3
   },
   "file_extension": ".py",
   "mimetype": "text/x-python",
   "name": "python",
   "nbconvert_exporter": "python",
   "pygments_lexer": "ipython3",
   "version": "3.8.0"
  },
  "voila": {
   "template": "lab"
  }
 },
 "nbformat": 4,
 "nbformat_minor": 5
}
