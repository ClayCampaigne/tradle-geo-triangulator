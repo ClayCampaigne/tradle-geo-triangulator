{
 "cells": [
  {
   "cell_type": "markdown",
   "id": "intro",
   "metadata": {},
   "source": [
    "# Tradle Geographic Triangulator\n",
    "\n",
    "This notebook helps solve [Tradle](https://oec.world/en/tradle/) puzzles by triangulating the target country based on distance hints.\n",
    "\n",
    "## How it works\n",
    "\n",
    "Tradle provides hints in the form:\n",
    "- Distance (in km) from your guess to the target country\n",
    "- Direction (cardinal directions like N, NE, SW, etc.)\n",
    "\n",
    "This tool:\n",
    "1. Calculates distances between all country centroids using the Haversine formula\n",
    "2. Compares your guesses to all possible countries\n",
    "3. Ranks countries by how well they match all your hints\n",
    "4. Filters by direction constraints\n",
    "\n",
    "The **output shows total distance error in km** (lower is better). Countries in the wrong direction get their error multiplied by a penalty."
   ]
  },
  {
   "cell_type": "markdown",
   "id": "setup-header",
   "metadata": {},
   "source": [
    "## Setup and Data Loading"
   ]
  },
  {
   "cell_type": "code",
   "execution_count": null,
   "id": "imports",
   "metadata": {},
   "outputs": [],
   "source": [
    "from tradle_guesser import load_country_data, best_guesses\n",
    "\n",
    "# Load country data and distance matrix\n",
    "print(\"Loading country data...\")\n",
    "centroid_list, distance_df = load_country_data()\n",
    "print(f\"Loaded {len(centroid_list)} countries\")\n",
    "print(\"\\nFirst few countries:\")\n",
    "centroid_list.head()"
   ]
  },
  {
   "cell_type": "markdown",
   "id": "examples-header",
   "metadata": {},
   "source": [
    "## Usage Examples\n",
    "\n",
    "Each tuple in the input list contains:\n",
    "1. **Country you guessed** (str)\n",
    "2. **Distance shown by Tradle** (in km)\n",
    "3. **Direction shown by Tradle** (optional, e.g. 'N', 'SW', 'NW')\n",
    "\n",
    "The output shows **total distance error in km** for each candidate country."
   ]
  },
  {
   "cell_type": "code",
   "execution_count": null,
   "id": "example-1",
   "metadata": {},
   "outputs": [],
   "source": [
    "# Example 1: Using distance and direction hints\n",
    "# Using penalty=10 for strong direction filtering\n",
    "result = best_guesses(\n",
    "    [(\"Thailand\", 7705, 'NW'), (\"Eritrea\", 4985)],\n",
    "    centroid_list,\n",
    "    distance_df,\n",
    "    penalty=10\n",
    ")\n",
    "print(\"Top 10 candidates (error in km):\")\n",
    "print(result.head(10))"
   ]
  },
  {
   "cell_type": "code",
   "execution_count": null,
   "id": "example-2",
   "metadata": {},
   "outputs": [],
   "source": [
    "# Example 2: Multiple hints narrow down the answer\n",
    "result = best_guesses(\n",
    "    [\n",
    "        (\"Kazakhstan\", 5024), \n",
    "        (\"Bhutan\", 2452),\n",
    "        ('Malaysia', 2114),\n",
    "        (\"Vietnam\", 1114)\n",
    "    ],\n",
    "    centroid_list,\n",
    "    distance_df\n",
    ")\n",
    "print(\"Top 10 candidates (error in km):\")\n",
    "print(result.head(10))"
   ]
  },
  {
   "cell_type": "code",
   "execution_count": null,
   "id": "example-3",
   "metadata": {},
   "outputs": [],
   "source": [
    "# Example 3: Direction hints significantly narrow the search\n",
    "result = best_guesses(\n",
    "    [\n",
    "        (\"Trinidad and Tobago\", 1665, 'NW'), \n",
    "        ('Haiti', 307, 'N'),\n",
    "        ('Bahamas', 682, 'SW')\n",
    "    ],\n",
    "    centroid_list,\n",
    "    distance_df,\n",
    "    penalty=10\n",
    ")\n",
    "print(\"Top 10 candidates (error in km):\")\n",
    "print(result.head(10))"
   ]
  },
  {
   "cell_type": "markdown",
   "id": "interactive-header",
   "metadata": {},
   "source": [
    "## Try It Yourself\n",
    "\n",
    "Enter your own Tradle hints below:\n",
    "\n",
    "### Parameters:\n",
    "- **penalty**: Multiplier for countries in wrong direction (default=10)\n",
    "  - Higher values = stricter direction filtering\n",
    "  - Use `penalty=2` for weaker filtering\n",
    "  - Use `penalty=100` or `float('inf')` to almost completely exclude wrong directions"
   ]
  },
  {
   "cell_type": "code",
   "execution_count": null,
   "id": "interactive",
   "metadata": {},
   "outputs": [],
   "source": [
    "# Replace these with your own hints from Tradle\n",
    "my_hints = [\n",
    "    # (\"Country Name\", distance_km, 'Direction'),  # with direction\n",
    "    # (\"Country Name\", distance_km),                # without direction\n",
    "]\n",
    "\n",
    "if my_hints:\n",
    "    # Use penalty=10 for good direction filtering\n",
    "    # Increase to 100 or float('inf') if you want stricter filtering\n",
    "    result = best_guesses(my_hints, centroid_list, distance_df, penalty=10)\n",
    "    print(\"Top 15 candidates (total distance error in km):\")\n",
    "    print(result.head(15))\n",
    "else:\n",
    "    print(\"Add your hints to the my_hints list above and run this cell again!\")"
   ]
  }
 ],
 "metadata": {
  "kernelspec": {
   "display_name": "Python 3",
   "language": "python",
   "name": "python3"
  },
  "language_info": {
   "codemirror_mode": {
    "name": "ipython",
    "version": 3
   },
   "file_extension": ".py",
   "mimetype": "text/x-python",
   "name": "python",
   "nbconvert_exporter": "python",
   "pygments_lexer": "ipython3",
   "version": "3.8.0"
  }
 },
 "nbformat": 4,
 "nbformat_minor": 5
}
